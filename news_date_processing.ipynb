{
 "cells": [
  {
   "cell_type": "code",
   "execution_count": null,
   "metadata": {},
   "outputs": [],
   "source": [
    "import pandas as pd\n",
    "import numpy as np"
   ]
  },
  {
   "cell_type": "code",
   "execution_count": null,
   "metadata": {},
   "outputs": [],
   "source": [
    "doc = pd.read_csv(\"news.csv\")"
   ]
  },
  {
   "cell_type": "code",
   "execution_count": null,
   "metadata": {},
   "outputs": [],
   "source": [
    "doc.head()"
   ]
  },
  {
   "cell_type": "code",
   "execution_count": null,
   "metadata": {},
   "outputs": [],
   "source": [
    "companies = pd.read_csv('/Users/lyd/Downloads/constituents-financials_csv.csv')\n",
    "company_list = pd.DataFrame(companies)\n",
    "company_list.index=company_list['Symbol']\n",
    "company_list = company_list[['Symbol','Name','Sector']]\n",
    "company_names = company_list['Name'].values\n",
    "company_symbols = company_list['Symbol'].values\n",
    "company_description = company_list[['Symbol','Name','Name']].values"
   ]
  },
  {
   "cell_type": "code",
   "execution_count": null,
   "metadata": {},
   "outputs": [],
   "source": [
    "def parse_company_name(company_description):\n",
    "    stop_words=['&',\".\",'the','company','inc','inc.','plc','corp','corp.','co','co.','worldwide','corporation','group','']\n",
    "    for k in range(2):\n",
    "        for i in range(len(company_description)):\n",
    "            chars = company_description[i][2].split(\" \")\n",
    "\n",
    "            for j in chars:\n",
    "                if j.lower() in stop_words:\n",
    "                    chars.remove(j)\n",
    "            company_description[i][2] = ' '.join(chars)\n",
    "    return company_description.tolist()\n"
   ]
  },
  {
   "cell_type": "code",
   "execution_count": null,
   "metadata": {},
   "outputs": [],
   "source": [
    "company_name_list = parse_company_name(company_description)\n",
    "company_name_list"
   ]
  },
  {
   "cell_type": "code",
   "execution_count": null,
   "metadata": {},
   "outputs": [],
   "source": [
    "stock_prices = pd.read_csv(\"price.csv\")\n",
    "stock_prices = stock_prices.set_index(pd.DatetimeIndex(stock_prices['timestamp']))"
   ]
  },
  {
   "cell_type": "code",
   "execution_count": null,
   "metadata": {},
   "outputs": [],
   "source": [
    "stock_prices[\"timestamp\"] = pd.to_datetime(stock_prices[\"timestamp\"], format=\"%Y-%m-%d\")\n",
    "doc[\"date\"] = pd.to_datetime(doc[\"date\"], format=\"%Y-%m-%d\")"
   ]
  },
  {
   "cell_type": "code",
   "execution_count": null,
   "metadata": {},
   "outputs": [],
   "source": [
    "from pandas.tseries.offsets import BDay\n",
    "isBusinessDay = BDay().onOffset\n",
    "match_series = pd.to_datetime(doc['date']).map(isBusinessDay)\n",
    "news = doc[match_series]\n",
    "news_data = news.dropna()"
   ]
  },
  {
   "cell_type": "code",
   "execution_count": null,
   "metadata": {},
   "outputs": [],
   "source": [
    "import nltk\n",
    "import string\n",
    "import spacy\n",
    "import re\n",
    "from nltk.tokenize import sent_tokenize,word_tokenize\n",
    "from datetime import datetime, timedelta\n",
    "\n",
    "nlp = spacy.load('en_core_web_sm')\n",
    "def extract_company_and_price_data(news,date,company_name_list):\n",
    "    \n",
    "    stop_words = nltk.corpus.stopwords.words('english')\n",
    "    stop_words.extend(list(string.ascii_lowercase))\n",
    "    stop_words.append('would')\n",
    "    stop_words.append('kmh')\n",
    "    stop_words.append('mph')\n",
    "    stop_words.append('u')\n",
    "    \n",
    "    date_symbols=['JAN','FEB','MAR','APR','MAY','JUN','JUL','AUG','SEP','OCT','NOV','DEC','MON','TUE','WED','THU','FRI','SAT','SUN']\n",
    "    \n",
    "    processed_data=[]\n",
    "    extracted_information = []\n",
    "    #regular_expressions = re.compile(r'[^A-Za-z-]')\n",
    "    \n",
    "    try:\n",
    "        sentences = sent_tokenize(news)\n",
    "\n",
    "        for sentence in sentences:\n",
    "            tokens = word_tokenize(sentence)\n",
    "            sentence_en = nlp(sentence)\n",
    "            extracted_entities = list(map(str,sentence_en.ents))\n",
    "            bigrams = list(nltk.bigrams(tokens))\n",
    "\n",
    "\n",
    "            for company in company_name_list:\n",
    "                if company[0] in stock_prices:\n",
    "                    if company[0] in extracted_entities \\\n",
    "                    or company[1] in extracted_entities \\\n",
    "                    or company[2] in sentence:\n",
    "                        future_price = pd.to_numeric(stock_prices[stock_prices[\"timestamp\"] == date][company[0]]).tolist()[0]\n",
    "                        if (date.weekday() == 0): #monday\n",
    "                            past_price_1 = pd.to_numeric(stock_prices[stock_prices[\"timestamp\"] == date - timedelta(days=3)][company[0]]).tolist()\n",
    "                            past_price_2 = pd.to_numeric(stock_prices[stock_prices[\"timestamp\"] == date - timedelta(days=4)][company[0]]).tolist()\n",
    "                            past_price_3 = pd.to_numeric(stock_prices[stock_prices[\"timestamp\"] == date - timedelta(days=5)][company[0]]).tolist()\n",
    "\n",
    "                        elif (date.weekday() == 1): #tuesday\n",
    "                            past_price_1 = pd.to_numeric(stock_prices[stock_prices[\"timestamp\"] == date - timedelta(days=1)][company[0]]).tolist()\n",
    "                            past_price_2 = pd.to_numeric(stock_prices[stock_prices[\"timestamp\"] == date - timedelta(days=4)][company[0]]).tolist()\n",
    "                            past_price_3 = pd.to_numeric(stock_prices[stock_prices[\"timestamp\"] == date - timedelta(days=5)][company[0]]).tolist()\n",
    "\n",
    "                        if (date.weekday() == 2): #wednesday\n",
    "                            past_price_1 = pd.to_numeric(stock_prices[stock_prices[\"timestamp\"] == date - timedelta(days=1)][company[0]]).tolist()\n",
    "                            past_price_2 = pd.to_numeric(stock_prices[stock_prices[\"timestamp\"] == date - timedelta(days=2)][company[0]]).tolist()\n",
    "                            past_price_3 = pd.to_numeric(stock_prices[stock_prices[\"timestamp\"] == date - timedelta(days=5)][company[0]]).tolist()\n",
    "                        else: #thursday and friday\n",
    "                            past_price_1 = pd.to_numeric(stock_prices[stock_prices[\"timestamp\"] == date - timedelta(days=1)][company[0]]).tolist()\n",
    "                            past_price_2 = pd.to_numeric(stock_prices[stock_prices[\"timestamp\"] == date - timedelta(days=2)][company[0]]).tolist()\n",
    "                            past_price_3 = pd.to_numeric(stock_prices[stock_prices[\"timestamp\"] == date - timedelta(days=3)][company[0]]).tolist()\n",
    "\n",
    "                        if (len(past_price_1) + len(past_price_2) + len(past_price_3) >= 3):\n",
    "                            price_movement = np.sign(future_price - past_price_1[0])\n",
    "                            extracted_information.append((date,sentence,tokens,sentence_en,bigrams,company[0],company[1],company[2],future_price,\\\n",
    "                                                          past_price_1[0],past_price_2[0],past_price_3[0],price_movement))\n",
    "    except:\n",
    "        print(\"something wrong\")\n",
    "    return extracted_information"
   ]
  },
  {
   "cell_type": "code",
   "execution_count": null,
   "metadata": {},
   "outputs": [],
   "source": [
    "a = extract_company_and_price_data(news_data[\"content\"].iloc[100],news_data[\"date\"].iloc[100],company_name_list)\n",
    "b = extract_company_and_price_data(news_data[\"content\"].iloc[101],news_data[\"date\"].iloc[101],company_name_list)"
   ]
  },
  {
   "cell_type": "code",
   "execution_count": null,
   "metadata": {
    "scrolled": true
   },
   "outputs": [],
   "source": [
    "a.extend(b)\n",
    "h = pd.DataFrame(a,columns =['date','sentences','tokens','sentence_en','bigrams','symbol','name','processed_name','future_price','past_price_1day',\\\n",
    "                        'past_price_2day','past_price_3day','price_movement'])\n",
    "h[\"bigrams\"][0]"
   ]
  },
  {
   "cell_type": "code",
   "execution_count": null,
   "metadata": {
    "scrolled": true
   },
   "outputs": [],
   "source": [
    "all_information=[]\n",
    "for i in range(len(news_data)):\n",
    "    print(\"processing news no.\"+ str(i))\n",
    "    single_day = extract_company_and_price_data(news_data[\"content\"].iloc[i],news_data[\"date\"].iloc[i],company_name_list)\n",
    "    if (len(single_day) > 0):\n",
    "        all_information.extend(single_day)"
   ]
  },
  {
   "cell_type": "code",
   "execution_count": null,
   "metadata": {},
   "outputs": [],
   "source": []
  },
  {
   "cell_type": "code",
   "execution_count": null,
   "metadata": {},
   "outputs": [],
   "source": []
  },
  {
   "cell_type": "code",
   "execution_count": null,
   "metadata": {},
   "outputs": [],
   "source": []
  }
 ],
 "metadata": {
  "kernelspec": {
   "display_name": "Python 3",
   "language": "python",
   "name": "python3"
  },
  "language_info": {
   "codemirror_mode": {
    "name": "ipython",
    "version": 3
   },
   "file_extension": ".py",
   "mimetype": "text/x-python",
   "name": "python",
   "nbconvert_exporter": "python",
   "pygments_lexer": "ipython3",
   "version": "3.6.8"
  }
 },
 "nbformat": 4,
 "nbformat_minor": 2
}
